{
 "cells": [
  {
   "cell_type": "code",
   "execution_count": null,
   "id": "89d03e68",
   "metadata": {},
   "outputs": [],
   "source": []
  },
  {
   "cell_type": "code",
   "execution_count": 6,
   "id": "a482a66d",
   "metadata": {},
   "outputs": [
    {
     "ename": "KeyboardInterrupt",
     "evalue": "",
     "output_type": "error",
     "traceback": [
      "\u001b[1;31m---------------------------------------------------------------------------\u001b[0m",
      "\u001b[1;31mKeyboardInterrupt\u001b[0m                         Traceback (most recent call last)",
      "Cell \u001b[1;32mIn[6], line 38\u001b[0m\n\u001b[0;32m     33\u001b[0m     \u001b[38;5;28;01mif\u001b[39;00m w \u001b[38;5;241m>\u001b[39m d \u001b[38;5;129;01mand\u001b[39;00m h \u001b[38;5;241m>\u001b[39m d:\n\u001b[0;32m     34\u001b[0m         \u001b[38;5;66;03m# Click on the center of the rectangle\u001b[39;00m\n\u001b[0;32m     35\u001b[0m         pyautogui\u001b[38;5;241m.\u001b[39mclick(x \u001b[38;5;241m+\u001b[39m w\u001b[38;5;241m/\u001b[39m\u001b[38;5;241m2\u001b[39m, y \u001b[38;5;241m+\u001b[39m h\u001b[38;5;241m/\u001b[39m\u001b[38;5;241m2\u001b[39m)\n\u001b[1;32m---> 38\u001b[0m time\u001b[38;5;241m.\u001b[39msleep(random\u001b[38;5;241m.\u001b[39mrandint(\u001b[38;5;241m3\u001b[39m,\u001b[38;5;241m5\u001b[39m))\n",
      "\u001b[1;31mKeyboardInterrupt\u001b[0m: "
     ]
    }
   ],
   "source": [
    "import pyautogui\n",
    "import numpy as np\n",
    "import cv2\n",
    "import time\n",
    "import random\n",
    "\n",
    "# Define the color range of the rectangles we want to search for\n",
    "lower_red = np.array([0,0,240])\n",
    "upper_red = np.array([0,0,255])\n",
    "\n",
    "d = 70\n",
    "\n",
    "for i in range(10):\n",
    "    # Get the current screen\n",
    "    screenshot = pyautogui.screenshot()\n",
    "\n",
    "    # Convert it to a numpy array\n",
    "    screenshot = np.array(screenshot)\n",
    "    # Convert it to a BGR image (OpenCV uses BGR colors)\n",
    "    screenshot = cv2.cvtColor(screenshot, cv2.COLOR_RGB2BGR)\n",
    "    # Blur the image to reduce noise\n",
    "    screenshot = cv2.GaussianBlur(screenshot, (5, 5), 0)\n",
    "    # Convert it to a binary image using the red color range\n",
    "    mask = cv2.inRange(screenshot, lower_red, upper_red)\n",
    "    # Find contours in the binary image\n",
    "    contours, _ = cv2.findContours(mask, cv2.RETR_TREE, cv2.CHAIN_APPROX_SIMPLE)\n",
    "    for contour in contours:\n",
    "        # Approximate the contour with a rectangle\n",
    "        rect = cv2.minAreaRect(contour)\n",
    "        # Get the rectangle coordinates\n",
    "        x, y, w, h = cv2.boundingRect(contour)\n",
    "        # Check if the rectangle is big enough\n",
    "        if w > d and h > d:\n",
    "            # Click on the center of the rectangle\n",
    "            pyautogui.click(x + w/2, y + h/2)\n",
    "\n",
    "\n",
    "    time.sleep(random.randint(3,5))\n"
   ]
  },
  {
   "cell_type": "code",
   "execution_count": null,
   "id": "987a7c8b",
   "metadata": {},
   "outputs": [],
   "source": []
  },
  {
   "cell_type": "code",
   "execution_count": 8,
   "id": "701fed0c",
   "metadata": {},
   "outputs": [],
   "source": [
    "import pyautogui\n",
    "import numpy as np\n",
    "import cv2\n",
    "import time\n",
    "import random\n",
    "\n",
    "# Define the color range of the rectangles we want to search for\n",
    "lower_red = np.array([0,0,240])\n",
    "upper_red = np.array([0,0,255])\n",
    "\n",
    "d = 70\n",
    "\n",
    "def clicker():\n",
    "    # Get the current screen\n",
    "    screenshot = pyautogui.screenshot()\n",
    "    screenshot.save('sds.png')\n",
    "    # Convert it to a numpy array\n",
    "    screenshot = np.array(screenshot)\n",
    "    # Convert it to a BGR image (OpenCV uses BGR colors)\n",
    "    screenshot = cv2.cvtColor(screenshot, cv2.COLOR_RGB2BGR)\n",
    "    # Blur the image to reduce noise\n",
    "    screenshot = cv2.GaussianBlur(screenshot, (5, 5), 0)\n",
    "    # Convert it to a binary image using the red color range\n",
    "    mask = cv2.inRange(screenshot, lower_red, upper_red)\n",
    "    # Find contours in the binary image\n",
    "    contours, _ = cv2.findContours(mask, cv2.RETR_TREE, cv2.CHAIN_APPROX_SIMPLE)\n",
    "    for contour in contours:\n",
    "        # Approximate the contour with a rectangle\n",
    "        rect = cv2.minAreaRect(contour)\n",
    "        # Get the rectangle coordinates\n",
    "        x, y, w, h = cv2.boundingRect(contour)\n",
    "        # Check if the rectangle is big enough\n",
    "        if w > d and h > d:\n",
    "            # Click on the center of the rectangle\n",
    "            std = random.uniform(2.0,2.2)\n",
    "            pyautogui.click(x + w/std, y + h/std)\n",
    "\n",
    "\n",
    "#time.sleep(random.randint(65,70))\n"
   ]
  },
  {
   "cell_type": "code",
   "execution_count": 10,
   "id": "0ae42c04",
   "metadata": {},
   "outputs": [
    {
     "ename": "KeyboardInterrupt",
     "evalue": "",
     "output_type": "error",
     "traceback": [
      "\u001b[1;31m---------------------------------------------------------------------------\u001b[0m",
      "\u001b[1;31mKeyboardInterrupt\u001b[0m                         Traceback (most recent call last)",
      "Cell \u001b[1;32mIn[10], line 3\u001b[0m\n\u001b[0;32m      1\u001b[0m \u001b[38;5;28;01mfor\u001b[39;00m i \u001b[38;5;129;01min\u001b[39;00m \u001b[38;5;28mrange\u001b[39m(\u001b[38;5;241m10\u001b[39m):\n\u001b[0;32m      2\u001b[0m     clicker()\n\u001b[1;32m----> 3\u001b[0m     \u001b[43mtime\u001b[49m\u001b[38;5;241;43m.\u001b[39;49m\u001b[43msleep\u001b[49m\u001b[43m(\u001b[49m\u001b[43mrandom\u001b[49m\u001b[38;5;241;43m.\u001b[39;49m\u001b[43mrandint\u001b[49m\u001b[43m(\u001b[49m\u001b[38;5;241;43m50\u001b[39;49m\u001b[43m,\u001b[49m\u001b[38;5;241;43m60\u001b[39;49m\u001b[43m)\u001b[49m\u001b[43m)\u001b[49m\n",
      "\u001b[1;31mKeyboardInterrupt\u001b[0m: "
     ]
    }
   ],
   "source": [
    "for i in range(10):\n",
    "    clicker()\n",
    "    time.sleep(random.randint(50,60))"
   ]
  },
  {
   "cell_type": "code",
   "execution_count": 73,
   "id": "c0e6f333",
   "metadata": {},
   "outputs": [
    {
     "data": {
      "text/plain": [
       "2.926760682832562"
      ]
     },
     "execution_count": 73,
     "metadata": {},
     "output_type": "execute_result"
    }
   ],
   "source": [
    "random.uniform(2.5,3)"
   ]
  },
  {
   "cell_type": "code",
   "execution_count": null,
   "id": "f982a2d9",
   "metadata": {},
   "outputs": [],
   "source": []
  }
 ],
 "metadata": {
  "kernelspec": {
   "display_name": "Python 3 (ipykernel)",
   "language": "python",
   "name": "python3"
  },
  "language_info": {
   "codemirror_mode": {
    "name": "ipython",
    "version": 3
   },
   "file_extension": ".py",
   "mimetype": "text/x-python",
   "name": "python",
   "nbconvert_exporter": "python",
   "pygments_lexer": "ipython3",
   "version": "3.11.1"
  }
 },
 "nbformat": 4,
 "nbformat_minor": 5
}
