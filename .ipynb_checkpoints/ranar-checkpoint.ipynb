{
 "cells": [
  {
   "cell_type": "code",
   "execution_count": 5,
   "id": "4c8d4a3e",
   "metadata": {},
   "outputs": [],
   "source": [
    "import pyautogui as py\n",
    "import time"
   ]
  },
  {
   "cell_type": "code",
   "execution_count": 56,
   "id": "3148d9bb",
   "metadata": {},
   "outputs": [
    {
     "data": {
      "text/plain": [
       "Point(x=275, y=513)"
      ]
     },
     "execution_count": 56,
     "metadata": {},
     "output_type": "execute_result"
    }
   ],
   "source": [
    "py.position()"
   ]
  },
  {
   "cell_type": "code",
   "execution_count": 109,
   "id": "8948b5c4",
   "metadata": {},
   "outputs": [
    {
     "ename": "KeyboardInterrupt",
     "evalue": "",
     "output_type": "error",
     "traceback": [
      "\u001b[1;31m---------------------------------------------------------------------------\u001b[0m",
      "\u001b[1;31mKeyboardInterrupt\u001b[0m                         Traceback (most recent call last)",
      "Cell \u001b[1;32mIn[109], line 85\u001b[0m\n\u001b[0;32m     83\u001b[0m \u001b[38;5;28;01mfor\u001b[39;00m i \u001b[38;5;129;01min\u001b[39;00m \u001b[38;5;28mrange\u001b[39m(\u001b[38;5;241m20\u001b[39m):\n\u001b[0;32m     84\u001b[0m     open_bank()\n\u001b[1;32m---> 85\u001b[0m     \u001b[43mget_items\u001b[49m\u001b[43m(\u001b[49m\u001b[43m)\u001b[49m\n\u001b[0;32m     86\u001b[0m     create_potion()\n\u001b[0;32m     87\u001b[0m     deposit()\n",
      "Cell \u001b[1;32mIn[109], line 9\u001b[0m, in \u001b[0;36mget_items\u001b[1;34m()\u001b[0m\n\u001b[0;32m      6\u001b[0m \u001b[38;5;28;01mdef\u001b[39;00m \u001b[38;5;21mget_items\u001b[39m():\n\u001b[0;32m      7\u001b[0m     \u001b[38;5;66;03m#select ranar\u001b[39;00m\n\u001b[0;32m      8\u001b[0m     ranar \u001b[38;5;241m=\u001b[39m py\u001b[38;5;241m.\u001b[39mmoveTo(\u001b[38;5;241m228\u001b[39m,\u001b[38;5;241m437\u001b[39m)\n\u001b[1;32m----> 9\u001b[0m     time\u001b[38;5;241m.\u001b[39msleep(\u001b[38;5;241m3\u001b[39m)\n\u001b[0;32m     10\u001b[0m     right_click \u001b[38;5;241m=\u001b[39m py\u001b[38;5;241m.\u001b[39mclick(button\u001b[38;5;241m=\u001b[39m\u001b[38;5;124m'\u001b[39m\u001b[38;5;124mright\u001b[39m\u001b[38;5;124m'\u001b[39m)\n\u001b[0;32m     11\u001b[0m     time\u001b[38;5;241m.\u001b[39msleep(\u001b[38;5;241m3\u001b[39m)\n",
      "\u001b[1;31mKeyboardInterrupt\u001b[0m: "
     ]
    }
   ],
   "source": [
    "def open_bank():\n",
    "    ge = py.moveTo(518,506)\n",
    "    py.click()\n",
    "    time.sleep(3)\n",
    "\n",
    "def get_items():\n",
    "    #select ranar\n",
    "    ranar = py.moveTo(228,437)\n",
    "    time.sleep(3)\n",
    "    right_click = py.click(button='right')\n",
    "    time.sleep(3)\n",
    "\n",
    "    select_1000 = py.moveTo(200,512)\n",
    "    time.sleep(3)\n",
    "    py.click()\n",
    "\n",
    "\n",
    "    #select snape\n",
    "    ranar = py.moveTo(272,443)\n",
    "    time.sleep(3)\n",
    "    right_click = py.click(button='right')\n",
    "    time.sleep(3)\n",
    "\n",
    "    select_1000 = py.moveTo(x=275, y=513)\n",
    "    time.sleep(3)\n",
    "    py.click()\n",
    "\n",
    "    #select vial\n",
    "\n",
    "    ranar = py.moveTo(320,443)\n",
    "    time.sleep(3)\n",
    "    right_click = py.click(button='right')\n",
    "    time.sleep(3)\n",
    "\n",
    "    select_1000 = py.moveTo(x=275, y=513)\n",
    "    time.sleep(3)\n",
    "    py.click()\n",
    "\n",
    "\n",
    "\n",
    "    close_bank = py.moveTo(627,65)\n",
    "    time.sleep(1)\n",
    "    py.click()\n",
    "\n",
    "    \n",
    "def create_potion():    \n",
    "    inv_ranar = py.moveTo(847,748)\n",
    "    time.sleep(1)\n",
    "    py.click()\n",
    "    \n",
    "    vial = py.moveTo(845, 939)\n",
    "    py.click()\n",
    "    time.sleep(2)\n",
    "    \n",
    "    create_pot = py.moveTo(270, 970)\n",
    "    time.sleep(1)\n",
    "    py.click()\n",
    "    time.sleep(15)\n",
    "    \n",
    "    snape = py.moveTo(890, 899)\n",
    "    time.sleep(1)\n",
    "    py.click()\n",
    "\n",
    "    unf_pot = py.moveTo(847,748)\n",
    "    py.click()\n",
    "    time.sleep(3)\n",
    "\n",
    "    prayer_pot = py.moveTo(270,970)\n",
    "    py.click()\n",
    "    time.sleep(15)\n",
    "    \n",
    "def deposit():\n",
    "    open_bank()\n",
    "\n",
    "    deposit_pot = py.moveTo(x=580, y=819)\n",
    "    time.sleep(1)\n",
    "    py.click()\n",
    "    time.sleep(1)\n",
    "    close_bank = py.moveTo(629,72)\n",
    "    time.sleep(1)\n",
    "    py.click()\n",
    "\n",
    "for i in range(20):\n",
    "    open_bank()\n",
    "    get_items()\n",
    "    create_potion()\n",
    "    deposit()"
   ]
  },
  {
   "cell_type": "code",
   "execution_count": 107,
   "id": "e0c8a253",
   "metadata": {},
   "outputs": [],
   "source": [
    "create_potion()"
   ]
  },
  {
   "cell_type": "code",
   "execution_count": 94,
   "id": "4e8abbf5",
   "metadata": {},
   "outputs": [
    {
     "data": {
      "text/plain": [
       "Point(x=580, y=819)"
      ]
     },
     "execution_count": 94,
     "metadata": {},
     "output_type": "execute_result"
    }
   ],
   "source": [
    "py.position()"
   ]
  },
  {
   "cell_type": "code",
   "execution_count": 108,
   "id": "70422eee",
   "metadata": {},
   "outputs": [],
   "source": [
    "deposit()"
   ]
  },
  {
   "cell_type": "code",
   "execution_count": null,
   "id": "662ab507",
   "metadata": {},
   "outputs": [],
   "source": []
  }
 ],
 "metadata": {
  "kernelspec": {
   "display_name": "Python 3 (ipykernel)",
   "language": "python",
   "name": "python3"
  },
  "language_info": {
   "codemirror_mode": {
    "name": "ipython",
    "version": 3
   },
   "file_extension": ".py",
   "mimetype": "text/x-python",
   "name": "python",
   "nbconvert_exporter": "python",
   "pygments_lexer": "ipython3",
   "version": "3.11.1"
  }
 },
 "nbformat": 4,
 "nbformat_minor": 5
}
